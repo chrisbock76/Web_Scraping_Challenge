{
 "cells": [
  {
   "cell_type": "code",
   "execution_count": 1,
   "metadata": {},
   "outputs": [],
   "source": [
    "#import dependencies\n",
    "from bs4 import BeautifulSoup as bs\n",
    "import requests\n",
    "from selenium import webdriver\n",
    "from splinter import Browser\n",
    "import time\n",
    "import pandas as pd"
   ]
  },
  {
   "cell_type": "code",
   "execution_count": 2,
   "metadata": {},
   "outputs": [],
   "source": [
    "#set up splinter\n",
    "def init_browser():\n",
    "    executable_path = {\"executable_path\": \"chromedriver.exe\"}\n",
    "    return Browser(\"chrome\", **executable_path, headless=False)"
   ]
  },
  {
   "cell_type": "code",
   "execution_count": 3,
   "metadata": {},
   "outputs": [],
   "source": [
    "\n",
    "browser = init_browser()\n",
    "url = 'https://mars.nasa.gov/news/'\n",
    "browser.visit(url)\n",
    "time.sleep(1) #wait for page to load\n",
    "html = browser.html\n",
    "soup = bs(html, 'html.parser')"
   ]
  },
  {
   "cell_type": "code",
   "execution_count": 4,
   "metadata": {},
   "outputs": [],
   "source": [
    "data_list = soup.find('ul', class_='item_list')\n",
    "nasa_headlines = []\n",
    "header_store = []\n",
    "para_store = []"
   ]
  },
  {
   "cell_type": "code",
   "execution_count": 5,
   "metadata": {},
   "outputs": [],
   "source": [
    "nasa_headers = data_list.find_all('div', class_='content_title')\n",
    "for items in nasa_headers:\n",
    "    header_store.append(items.text)\n",
    "nasa_para = data_list.find_all('div', class_='article_teaser_body')\n",
    "for items in nasa_para:\n",
    "    para_store.append(items.text)\n"
   ]
  },
  {
   "cell_type": "code",
   "execution_count": 6,
   "metadata": {},
   "outputs": [
    {
     "output_type": "execute_result",
     "data": {
      "text/plain": "[{'headers': \"Meet the People Behind NASA's Perseverance Rover\",\n  'paragraphs': \"These are the scientists and engineers who built NASA's next Mars rover and who will guide it to a safe landing in Jezero Crater. \"},\n {'headers': \"Q&A with the Student Who Named Ingenuity, NASA's Mars Helicopter\",\n  'paragraphs': 'As a longtime fan of space exploration, Vaneeza Rupani appreciates the creativity and collaboration involved with trying to fly on another planet.'},\n {'headers': \"Alabama High School Student Names NASA's Mars Helicopter\",\n  'paragraphs': \"Vaneeza Rupani's essay was chosen as the name for the small spacecraft, which will mark NASA's first attempt at powered flight on another planet.\"},\n {'headers': \"How NASA's Perseverance Mars Team Adjusted to Work in the Time of Coronavirus \",\n  'paragraphs': 'Like much of the rest of the world, the Mars rover team is pushing forward with its mission-critical work while putting the health and safety of their colleagues and community first.'},\n {'headers': \"NASA's Perseverance Mars Rover Gets Balanced\",\n  'paragraphs': \"The mission team performed a crucial weight-balancing test on the rover in preparation for this summer's history-making launch to the Red Planet.\"},\n {'headers': \"NASA's Curiosity Keeps Rolling As Team Operates Rover From Home\",\n  'paragraphs': 'The team has learned to meet new challenges as they work remotely on the Mars mission.'},\n {'headers': \"Mars Helicopter Attached to NASA's Perseverance Rover\",\n  'paragraphs': \"The team also fueled the rover's sky crane to get ready for this summer's history-making launch.\"},\n {'headers': \"NASA's Perseverance Mars Rover Gets Its Wheels and Air Brakes\",\n  'paragraphs': 'After the rover was shipped from JPL to Kennedy Space Center, the team is getting closer to finalizing the spacecraft for launch later this summer.'},\n {'headers': 'The Man Who Wanted to Fly on Mars',\n  'paragraphs': \"The Mars Helicopter is riding to the Red Planet this summer with NASA's Perseverance rover. The helicopter's chief engineer, Bob Balaram, shares the saga of how it came into being.\"},\n {'headers': \"10.9 Million Names Now Aboard NASA's Perseverance Mars Rover\",\n  'paragraphs': \"As part of NASA's 'Send Your Name to Mars' campaign, they've been stenciled onto three microchips along with essays from NASA's 'Name the Rover' contest. Next stop: Mars.\"},\n {'headers': \"NASA's Curiosity Mars Rover Takes a New Selfie Before Record Climb\",\n  'paragraphs': 'Along with capturing an image before its steepest ascent ever, the robotic explorer filmed its \"selfie stick,\" or robotic arm, in action.'},\n {'headers': \"NASA's Mars Perseverance Rover Gets Its Sample Handling System\",\n  'paragraphs': 'The system will be collecting and storing Martian rock and soil. Its installation marks another milestone in the march toward the July launch period.'},\n {'headers': \"Virginia Middle School Student Earns Honor of Naming NASA's Next Mars Rover\",\n  'paragraphs': 'NASA chose a seventh-grader from Virginia as winner of the agency\\'s \"Name the Rover\" essay contest. Alexander Mather\\'s entry for \"Perseverance\" was voted tops among 28,000 entries. '},\n {'headers': \"NASA's Curiosity Mars Rover Snaps Its Highest-Resolution Panorama Yet\",\n  'paragraphs': 'To go along with the stunning 1.8-billion-pixel image, a new video offers a sweeping view of the Red Planet.'},\n {'headers': 'NASA to Reveal Name of Its Next Mars Rover',\n  'paragraphs': \"After a months-long contest among students to name NASA's newest Mars rover, the agency will reveal the winning name — and the winning student — this Thursday. \"},\n {'headers': 'The MarCO Mission Comes to an End',\n  'paragraphs': 'The pair of briefcase-sized satellites made history when they sailed past Mars in 2019.'},\n {'headers': \"A Year of Surprising Science From NASA's InSight Mars Mission\",\n  'paragraphs': \"A batch of new papers summarizes the lander's findings above and below the surface of the Red Planet.\"},\n {'headers': \"Mars InSight Lander to Push on Top of the 'Mole'\",\n  'paragraphs': 'Engineers have a plan for pushing down on the heat probe, which has been stuck at the Martian surface for a year.'},\n {'headers': \"Common Questions about InSight's 'Mole'\",\n  'paragraphs': 'The following Q&As with members of the team answer some of the most common questions about the burrowing device, part of a science instrument called the Heat Flow and Physical Properties Package (HP3).'},\n {'headers': 'NASA Adds Return Sample Scientists to Mars 2020 Leadership Team',\n  'paragraphs': 'The leadership council for Mars 2020 science added two new members who represent the interests of scientists destined to handle and study the first samples from Red Planet.'},\n {'headers': \"NASA's Mars Reconnaissance Orbiter Undergoes Memory Update\",\n  'paragraphs': 'Other orbiters will continue relaying data from Mars surface missions for a two-week period.'},\n {'headers': \"NASA's Mars 2020 Rover Goes Coast-to-Coast to Prep for Launch\",\n  'paragraphs': \"The agency's first step in returning rocks from Mars just arrived at Kennedy Space Center. The Mars 2020 team now begins readying for a launch to the Red Planet this July.\"},\n {'headers': 'NASA Prepares for Moon and Mars With New Addition to Its Deep Space Network',\n  'paragraphs': 'Robotic spacecraft will be able to communicate with the dish using radio waves and lasers.'},\n {'headers': 'NASA Administrator Statement on Moon to Mars Initiative, FY 2021 Budget',\n  'paragraphs': \"Jim Bridenstine addresses NASA's ambitious plans for the coming years, including Mars Sample Return.\"},\n {'headers': \"All About the Laser (and Microphone) Atop Mars 2020, NASA's Next Rover\",\n  'paragraphs': 'SuperCam is a rock-vaporizing instrument that will help scientists hunt for Mars fossils.'},\n {'headers': \"NASA's MAVEN Explores Mars to Understand Radio Interference at Earth\",\n  'paragraphs': 'NASA’s MAVEN spacecraft has discovered “layers” and “rifts” in the electrically charged part of the upper atmosphere of Mars.'},\n {'headers': \"Nine Finalists Chosen in NASA's Mars 2020 Rover Naming Contest\",\n  'paragraphs': \"Nine finalists have been chosen in the essay contest for K-12 students across U.S. to name NASA's next Mars rover. Now you can help by voting for your favorite. \"},\n {'headers': \"NASA's Mars 2020 Rover Closer to Getting Its Name\",\n  'paragraphs': \"155 students from across the U.S. have been chosen as semifinalists in NASA's essay contest to name the Mars 2020 rover, and see it launch from Cape Canaveral this July.\"},\n {'headers': \"Media Get a Close-Up of NASA's Mars 2020 Rover\",\n  'paragraphs': \"The clean room at NASA's Jet Propulsion Laboratory was open to the media to see NASA's next Mars explorer before it leaves for Florida in preparation for a summertime launch.\"},\n {'headers': 'Space History Is Made in This NASA Robot Factory',\n  'paragraphs': \"From rockets to rovers, JPL's Spacecraft Assembly Facility has been at the center of robotic spaceflight. Here's a closer look at what makes it so special.\"},\n {'headers': \"NASA's Mars 2020 Rover Completes Its First Drive\",\n  'paragraphs': 'In a 10-plus-hour marathon, the rover steered, turned and drove in 3-foot (1-meter) increments over small ramps.'},\n {'headers': \"NASA's MAVEN Maps Winds in the Martian Upper Atmosphere that Mirror the Terrain Below and Gives Clues to Martian Climate\",\n  'paragraphs': 'Researchers have created the first map of wind circulation in the upper atmosphere of a planet besides Earth, using data from NASA’s MAVEN spacecraft that were collected during the last two years.'},\n {'headers': \"Newfound Martian Aurora Actually the Most Common; Sheds Light on Mars' Changing Climate\",\n  'paragraphs': 'A type of Martian aurora first identified by NASA’s MAVEN spacecraft in 2016 is actually the most common form of aurora occurring on the Red Planet, according to new results from the mission.'},\n {'headers': \"NASA's Treasure Map for Water Ice on Mars\",\n  'paragraphs': 'A new study identifies frozen water just below the Martian surface, where astronauts could easily dig it up.'},\n {'headers': 'Two Rovers to Roll on Mars Again: Curiosity and Mars 2020',\n  'paragraphs': 'They look like twins. But under the hood, the rover currently exploring the Red Planet and the one launching there this summer have distinct science tools and roles to play.'},\n {'headers': \"NASA's Briefcase-Size MarCO Satellite Picks Up Honors\",\n  'paragraphs': 'The twin spacecraft, the first of their kind to fly into deep space, earn a Laureate from Aviation Week & Space Technology.'},\n {'headers': 'Global Storms on Mars Launch Dust Towers Into the Sky',\n  'paragraphs': 'A Mars Dust Tower Stands Out Dust storms are common on Mars. But every decade or so, something unpredictable happens: a series of runaway storms break out, covering the entire planet in a dusty haze.'},\n {'headers': 'NASA Updates Mars 2020 Mission Environmental Review',\n  'paragraphs': 'NASA and the Department of Energy have completed a more detailed risk analysis for the Mars 2020 rover launch from Florida.'},\n {'headers': 'Two of a Space Kind: Apollo 12 and Mars 2020',\n  'paragraphs': 'Apollo 12 and the upcoming Mars 2020 mission may be separated by half a century, but they share several goals unique in the annals of space exploration.'},\n {'headers': 'Mars Scientists Investigate Ancient Life in Australia',\n  'paragraphs': \"Teams with NASA's Mars 2020 and ESA's ExoMars practiced hunting for fossilized microbial life in the Australian Outback in preparation for their Red Planet missions. \"}]"
     },
     "metadata": {},
     "execution_count": 6
    }
   ],
   "source": [
    "for x in range(len(header_store)):\n",
    "    nasa_dict = {\n",
    "        'headers': [],\n",
    "        'paragraphs': []\n",
    "    }\n",
    "    nasa_dict['headers'] = header_store[x]\n",
    "    nasa_dict['paragraphs'] = para_store[x]\n",
    "    nasa_headlines.append(nasa_dict)\n",
    "nasa_headlines\n"
   ]
  },
  {
   "cell_type": "code",
   "execution_count": 7,
   "metadata": {},
   "outputs": [],
   "source": [
    "url2 = 'https://www.jpl.nasa.gov/spaceimages/?search=&category=Mars'\n",
    "browser = init_browser()\n",
    "browser.visit(url2)\n",
    "time.sleep(3)\n",
    "html2 = browser.html\n",
    "soup2 = bs(html2, 'html.parser')"
   ]
  },
  {
   "cell_type": "code",
   "execution_count": 8,
   "metadata": {},
   "outputs": [
    {
     "output_type": "execute_result",
     "data": {
      "text/plain": "'https://www.jpl.nasa.gov/spaceimages/images/mediumsize/PIA19631_ip.jpg'"
     },
     "metadata": {},
     "execution_count": 8
    }
   ],
   "source": [
    "feature_div = soup2.find('div', class_='carousel_container')\n",
    "feature_image = feature_div.find('a', id='full_image')\n",
    "image_url = feature_image.get('data-fancybox-href')\n",
    "nasa_link = f\"https://www.jpl.nasa.gov{image_url}\"\n",
    "nasa_link"
   ]
  },
  {
   "cell_type": "code",
   "execution_count": 16,
   "metadata": {},
   "outputs": [
    {
     "output_type": "error",
     "ename": "IndexError",
     "evalue": "list index out of range",
     "traceback": [
      "\u001b[1;31m---------------------------------------------------------------------------\u001b[0m",
      "\u001b[1;31mIndexError\u001b[0m                                Traceback (most recent call last)",
      "\u001b[1;32m<ipython-input-16-917503ef4c09>\u001b[0m in \u001b[0;36m<module>\u001b[1;34m\u001b[0m\n\u001b[0;32m      4\u001b[0m \u001b[0mtime\u001b[0m\u001b[1;33m.\u001b[0m\u001b[0msleep\u001b[0m\u001b[1;33m(\u001b[0m\u001b[1;36m10\u001b[0m\u001b[1;33m)\u001b[0m\u001b[1;33m\u001b[0m\u001b[1;33m\u001b[0m\u001b[0m\n\u001b[0;32m      5\u001b[0m \u001b[0mfirsttweet_div\u001b[0m \u001b[1;33m=\u001b[0m \u001b[0mdriver\u001b[0m\u001b[1;33m.\u001b[0m\u001b[0mfind_elements_by_xpath\u001b[0m\u001b[1;33m(\u001b[0m\u001b[1;34m\"/html/body/div/div/div/div[2]/main/div/div/div/div/div/div/div/div/div[2]/section/div/div/div/div/div/div/article/div/div[2]/div[2]/div[2]/div/div/span\"\u001b[0m\u001b[1;33m)\u001b[0m\u001b[1;33m\u001b[0m\u001b[1;33m\u001b[0m\u001b[0m\n\u001b[1;32m----> 6\u001b[1;33m \u001b[0mfirsttweet\u001b[0m \u001b[1;33m=\u001b[0m \u001b[0mfirsttweet_div\u001b[0m\u001b[1;33m[\u001b[0m\u001b[1;36m0\u001b[0m\u001b[1;33m]\u001b[0m\u001b[1;33m.\u001b[0m\u001b[0mtext\u001b[0m\u001b[1;33m\u001b[0m\u001b[1;33m\u001b[0m\u001b[0m\n\u001b[0m\u001b[0;32m      7\u001b[0m \u001b[0mfirsttweet_div\u001b[0m\u001b[1;33m\u001b[0m\u001b[1;33m\u001b[0m\u001b[0m\n\u001b[0;32m      8\u001b[0m \u001b[1;31m#firsttweet\u001b[0m\u001b[1;33m\u001b[0m\u001b[1;33m\u001b[0m\u001b[1;33m\u001b[0m\u001b[0m\n",
      "\u001b[1;31mIndexError\u001b[0m: list index out of range"
     ]
    }
   ],
   "source": [
    "twitter_url = 'https://twitter.com/marswxreport?lang=en'\n",
    "driver = webdriver.Chrome()\n",
    "driver.get(twitter_url)\n",
    "time.sleep(10)\n",
    "firsttweet_div = driver.find_elements_by_xpath(\"/html/body/div/div/div/div[2]/main/div/div/div/div/div/div/div/div/div[2]/section/div/div/div/div/div/div/article/div/div[2]/div[2]/div[2]/div/div/span\")\n",
    "firsttweet = firsttweet_div[0].text\n",
    "firsttweet_div\n",
    "#firsttweet"
   ]
  },
  {
   "cell_type": "code",
   "execution_count": 10,
   "metadata": {},
   "outputs": [],
   "source": [
    "url4 = 'https://space-facts.com/mars/'\n",
    "time.sleep(3)\n",
    "tables = pd.read_html(url4)\n",
    "mars_facts = tables[0]"
   ]
  },
  {
   "cell_type": "code",
   "execution_count": 11,
   "metadata": {},
   "outputs": [
    {
     "output_type": "execute_result",
     "data": {
      "text/plain": "                      0                              1\n0  Equatorial Diameter:                       6,792 km\n1       Polar Diameter:                       6,752 km\n2                 Mass:  6.39 × 10^23 kg (0.11 Earths)\n3                Moons:            2 (Phobos & Deimos)\n4       Orbit Distance:       227,943,824 km (1.38 AU)\n5         Orbit Period:           687 days (1.9 years)\n6  Surface Temperature:                   -87 to -5 °C\n7         First Record:              2nd millennium BC\n8          Recorded By:           Egyptian astronomers",
      "text/html": "<div>\n<style scoped>\n    .dataframe tbody tr th:only-of-type {\n        vertical-align: middle;\n    }\n\n    .dataframe tbody tr th {\n        vertical-align: top;\n    }\n\n    .dataframe thead th {\n        text-align: right;\n    }\n</style>\n<table border=\"1\" class=\"dataframe\">\n  <thead>\n    <tr style=\"text-align: right;\">\n      <th></th>\n      <th>0</th>\n      <th>1</th>\n    </tr>\n  </thead>\n  <tbody>\n    <tr>\n      <td>0</td>\n      <td>Equatorial Diameter:</td>\n      <td>6,792 km</td>\n    </tr>\n    <tr>\n      <td>1</td>\n      <td>Polar Diameter:</td>\n      <td>6,752 km</td>\n    </tr>\n    <tr>\n      <td>2</td>\n      <td>Mass:</td>\n      <td>6.39 × 10^23 kg (0.11 Earths)</td>\n    </tr>\n    <tr>\n      <td>3</td>\n      <td>Moons:</td>\n      <td>2 (Phobos &amp; Deimos)</td>\n    </tr>\n    <tr>\n      <td>4</td>\n      <td>Orbit Distance:</td>\n      <td>227,943,824 km (1.38 AU)</td>\n    </tr>\n    <tr>\n      <td>5</td>\n      <td>Orbit Period:</td>\n      <td>687 days (1.9 years)</td>\n    </tr>\n    <tr>\n      <td>6</td>\n      <td>Surface Temperature:</td>\n      <td>-87 to -5 °C</td>\n    </tr>\n    <tr>\n      <td>7</td>\n      <td>First Record:</td>\n      <td>2nd millennium BC</td>\n    </tr>\n    <tr>\n      <td>8</td>\n      <td>Recorded By:</td>\n      <td>Egyptian astronomers</td>\n    </tr>\n  </tbody>\n</table>\n</div>"
     },
     "metadata": {},
     "execution_count": 11
    }
   ],
   "source": [
    "mars_facts"
   ]
  },
  {
   "cell_type": "code",
   "execution_count": 12,
   "metadata": {},
   "outputs": [],
   "source": [
    "url5 = 'https://astrogeology.usgs.gov/search/results?q=hemisphere+enhanced&k1=target&v1=Mars'\n",
    "browser = init_browser()\n",
    "browser.visit(url5)\n",
    "html5 = browser.html\n",
    "soup5 = bs(html5, 'html.parser')"
   ]
  },
  {
   "cell_type": "code",
   "execution_count": 13,
   "metadata": {},
   "outputs": [],
   "source": [
    "hemi_links_div = soup5.find_all('div', class_='item')\n",
    "mars_page = 'https://astrogeology.usgs.gov/'\n",
    "hemisphere_image_urls = []\n",
    "\n",
    "for result in hemi_links_div:\n",
    "    mars_links = result.find('a', class_='itemLink').get('href')\n",
    "    link_title = result.find('h3').text\n",
    "    mars_info = {\n",
    "        'title': link_title,\n",
    "        'img_url': f'{mars_page}{mars_links}'\n",
    "    }\n",
    "    hemisphere_image_urls.append(mars_info)"
   ]
  },
  {
   "cell_type": "code",
   "execution_count": 14,
   "metadata": {},
   "outputs": [
    {
     "output_type": "execute_result",
     "data": {
      "text/plain": "[]"
     },
     "metadata": {},
     "execution_count": 14
    }
   ],
   "source": [
    "hemisphere_image_urls"
   ]
  },
  {
   "cell_type": "code",
   "execution_count": null,
   "metadata": {},
   "outputs": [],
   "source": []
  },
  {
   "cell_type": "code",
   "execution_count": null,
   "metadata": {},
   "outputs": [],
   "source": []
  }
 ],
 "metadata": {
  "language_info": {
   "codemirror_mode": {
    "name": "ipython",
    "version": 3
   },
   "file_extension": ".py",
   "mimetype": "text/x-python",
   "name": "python",
   "nbconvert_exporter": "python",
   "pygments_lexer": "ipython3",
   "version": "3.7.4-final"
  },
  "orig_nbformat": 2,
  "kernelspec": {
   "name": "python37464bit079b829759a54f07bf2a058caef620b7",
   "display_name": "Python 3.7.4 64-bit"
  }
 },
 "nbformat": 4,
 "nbformat_minor": 2
}